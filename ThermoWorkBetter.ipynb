{
  "nbformat": 4,
  "nbformat_minor": 0,
  "metadata": {
    "colab": {
      "name": "ThermoWorkBetter.ipynb",
      "provenance": [],
      "collapsed_sections": [],
      "authorship_tag": "ABX9TyMT4xDbYFtU625Q/wsToSHG",
      "include_colab_link": true
    },
    "kernelspec": {
      "name": "python3",
      "display_name": "Python 3"
    }
  },
  "cells": [
    {
      "cell_type": "markdown",
      "metadata": {
        "id": "view-in-github",
        "colab_type": "text"
      },
      "source": [
        "<a href=\"https://colab.research.google.com/github/Jake-Lockwood/Thermodynamics/blob/main/ThermoWorkBetter.ipynb\" target=\"_parent\"><img src=\"https://colab.research.google.com/assets/colab-badge.svg\" alt=\"Open In Colab\"/></a>"
      ]
    },
    {
      "cell_type": "code",
      "metadata": {
        "id": "jVMp7uiRBb2r",
        "outputId": "c9eb4c0c-ea68-4127-f7b8-f1e43c7ba32b",
        "colab": {
          "base_uri": "https://localhost:8080/"
        }
      },
      "source": [
        "!pip install pandas\n",
        "!pip install thermo"
      ],
      "execution_count": 674,
      "outputs": [
        {
          "output_type": "stream",
          "text": [
            "Requirement already satisfied: pandas in /usr/local/lib/python3.6/dist-packages (1.1.4)\n",
            "Requirement already satisfied: numpy>=1.15.4 in /usr/local/lib/python3.6/dist-packages (from pandas) (1.18.5)\n",
            "Requirement already satisfied: pytz>=2017.2 in /usr/local/lib/python3.6/dist-packages (from pandas) (2018.9)\n",
            "Requirement already satisfied: python-dateutil>=2.7.3 in /usr/local/lib/python3.6/dist-packages (from pandas) (2.8.1)\n",
            "Requirement already satisfied: six>=1.5 in /usr/local/lib/python3.6/dist-packages (from python-dateutil>=2.7.3->pandas) (1.15.0)\n",
            "Requirement already satisfied: thermo in /usr/local/lib/python3.6/dist-packages (0.1.40)\n",
            "Requirement already satisfied: pandas in /usr/local/lib/python3.6/dist-packages (from thermo) (1.1.4)\n",
            "Requirement already satisfied: scipy in /usr/local/lib/python3.6/dist-packages (from thermo) (1.4.1)\n",
            "Requirement already satisfied: fluids>=0.1.77 in /usr/local/lib/python3.6/dist-packages (from thermo) (0.1.87)\n",
            "Requirement already satisfied: pytz>=2017.2 in /usr/local/lib/python3.6/dist-packages (from pandas->thermo) (2018.9)\n",
            "Requirement already satisfied: numpy>=1.15.4 in /usr/local/lib/python3.6/dist-packages (from pandas->thermo) (1.18.5)\n",
            "Requirement already satisfied: python-dateutil>=2.7.3 in /usr/local/lib/python3.6/dist-packages (from pandas->thermo) (2.8.1)\n",
            "Requirement already satisfied: six>=1.5 in /usr/local/lib/python3.6/dist-packages (from python-dateutil>=2.7.3->pandas->thermo) (1.15.0)\n"
          ],
          "name": "stdout"
        }
      ]
    },
    {
      "cell_type": "code",
      "metadata": {
        "id": "WcJ-JydQFcMy"
      },
      "source": [
        "import numpy as np\n",
        "import thermo\n",
        "import pandas as pd\n",
        "import matplotlib.pyplot as plt\n",
        "from numpy import poly1d\n",
        "import matplotlib.pylab as plb\n",
        "\n",
        "def S_IG_TP(a,T,P):\n",
        "    # returns entropy of ideal gas\n",
        "    #function S_IG = S_IG(a,T)\n",
        "    #S_IG returns the entropy of a substance (J/mol K)\n",
        "    #assuming it is an ideal gas with heat capacity parameters\n",
        "    #where the vector a is the 4 component vector \n",
        "    #listed in Sandler Appendix AII\n",
        "    #It is from a basis of S = 0 at T=1K and P = 1 Pa.\n",
        "    #Only use for differences.\n",
        "    \n",
        "    #convert to correct values\n",
        "    R = 8.314\n",
        "    S_IG_TP = a[0]*np.log(T)+a[1]*1e-2*T + a[2]*T**2*1e-5/2 + a[3]*T**3*1e-9/3 - R*np.log(P)\n",
        "    #S_IG = a[0]*np.log(T)\n",
        "    return S_IG_TP\n",
        "\n",
        "def Cp_star(a,T):\n",
        "    # returns Cp in J/molK using values from Sandler\n",
        "    Cp = a[0]+a[1]*1e-2*T + a[2]*T**2*1e-5 + a[3]*T**3*1e-9\n",
        "    return Cp\n",
        "\n",
        "def H_IG(a,T):\n",
        "    # returns H in J/mol of IG using values from sandler\n",
        "    H_IG = a[0]*T+a[1]*1e-2*T**2/2 + a[2]*T**3*1e-5/3 + a[3]*T**4*1e-9/4\n",
        "    return H_IG\n",
        "\n",
        "def cubic_roots(coeff):\n",
        "    # returns real roots of the cubic equation\n",
        "    total_roots = np.roots(coeff)\n",
        "    \n",
        "    if np.isrealobj(total_roots):\n",
        "        Z_temp = np.sort(total_roots)\n",
        "        # have to check if I get a negative value\n",
        "        # if that is the case then the highest root is correct\n",
        "        # only happens for PR EOS\n",
        "        if Z_temp[0] < 0:\n",
        "            Z = Z_temp[2]\n",
        "        else:\n",
        "            Z = Z_temp\n",
        "            \n",
        "    else: \n",
        "        # we have 1 real root and 2 imaginary roots\n",
        "        # find real root\n",
        "        for x in total_roots:\n",
        "            if np.isreal(x):\n",
        "                Z = np.real(x)\n",
        "    \n",
        "    return Z\n",
        "\n",
        "def PR_param(P,T,substance):\n",
        "    # function outputs the PR parameters (a,b,da/dt, A, B) in a vector form\n",
        "    # param from the inputs P, T, and the substance where the substance is a\n",
        "    # vector of (Tc, Pc, omega)\n",
        "    # all values of P and T should be in SI units! (Pa and K)\n",
        "    R = 8.314\n",
        "    \n",
        "    # break out substance\n",
        "    Tc = substance[0]\n",
        "    Pc = substance[1]\n",
        "    omega = substance[2]\n",
        "    \n",
        "    # calculate a and b\n",
        "    b = 0.0778*R*Tc/Pc\n",
        "    kappa = 0.37464 + 1.54226*omega - 0.26992*omega**2\n",
        "    alpha = (1+kappa*(1-np.sqrt(T/Tc)))**2\n",
        "    a = 0.45724* (R*Tc)**2 *alpha/Pc\n",
        "    dadt = -(0.45724*(R*Tc)**2 *kappa/Pc)*np.sqrt(alpha/(T*Tc))\n",
        "    \n",
        "    # calculate A and B\n",
        "    A = a*P/(R*T)**2\n",
        "    B = b*P/(R*T)\n",
        "    \n",
        "    param = np.array([a, b, dadt, A, B])\n",
        "    return param\n",
        "\n",
        "def PR_Z(A,B):\n",
        "    #PR_Z outputs sorted real roots of cubic PR EOS\n",
        "    c0 = 1\n",
        "    c1 = -(1-B)\n",
        "    c2 = A - 3*B*B - 2*B\n",
        "    c3 = -(A*B - B*B - B*B*B)\n",
        "    coeff = np.array([c0, c1, c2, c3])\n",
        "    \n",
        "    Z = cubic_roots(coeff)\n",
        "    return Z\n",
        "\n",
        "def PR_H(P,T,param,Z):\n",
        "    # PR_H outputs enthalpy departure function in Joules/mol\n",
        "    # for the PR EOS\n",
        "    # Note that Z must be singularly valued!\n",
        "    R = 8.314\n",
        "    a = param[0]; b = param[1]; dadt = param[2]\n",
        "    A = param[3]; B = param[4]\n",
        "    s2 = np.sqrt(2)\n",
        "    H = R*T*(Z-1) + ((T*dadt - a)/(2*s2*b))*np.log((Z + (1+s2)*B)/(Z + (1-s2)*B))\n",
        "    \n",
        "    return H\n",
        "\n",
        "def PR_S(P,T,param,Z):\n",
        "    # PR_S outputs etnropy departure function in J/molK for PR EOS\n",
        "    # Note that Z must be singuraly valued\n",
        "    R = 8.314\n",
        "    a = param[0]; b = param[1]; dadt = param[2]\n",
        "    A = param[3]; B = param[4]\n",
        "    s2 = np.sqrt(2)\n",
        "    S = R*np.log(Z-B)+ (dadt/(2*s2*b))*np.log((Z +(1 +s2)*B)/(Z +(1 -s2)*B))\n",
        "    \n",
        "    return S\n",
        "\n",
        "def PR_log_phi(A,B,Z):\n",
        "    # outputs the log of the fugacity coefiicient\n",
        "    # for the PR EOS\n",
        "    # Z must be singulary valued\n",
        "    s2 = np.sqrt(2)\n",
        "    log_phi = (Z-1) - np.log(Z-B) - (A/(2*s2*B))*np.log((Z + (1 +s2)*B)/(Z + (1 -s2)*B))\n",
        "    \n",
        "    return log_phi\n",
        "\n",
        "def PR_log_phi_mix_liq(Av,Bv,x):\n",
        "    # to get fugacity of mixture, have the components in vector x\n",
        "    # have the A and B values of each component in vectors Av and Bv\n",
        "    # \n",
        "    C = len(x) # number of components \n",
        "    Am = 0\n",
        "    for i in range(C):\n",
        "        for j in range(C):\n",
        "            Am = Am + x[i]*x[j]*np.sqrt(Av[i]*Av[j])\n",
        "    # now do B\n",
        "    Bm = 0        \n",
        "    for i in range(C):\n",
        "        Bm = Bm + x[i]*Bv[i]\n",
        "    # get liquid root, Z_l\n",
        "    # for liquid we want the lowest positive root\n",
        "    Z = PR_Z(Am,Bm)\n",
        "    if np.isscalar(Z) == False:\n",
        "        Z_l = Z[0]\n",
        "    else:\n",
        "        Z_l = Z\n",
        "    # now do the fugacity calculation\n",
        "    # this is Eq. 9.4-10\n",
        "    s2 = np.sqrt(2)\n",
        "    # initialize temp\n",
        "    temp = np.zeros(len(x))\n",
        "    log_phi = np.zeros(len(x))\n",
        "    for i in range(C):\n",
        "        #\n",
        "        for j in range(C):\n",
        "            temp[i] = temp[i] + x[j]*np.sqrt(Av[i]*Av[j])\n",
        "        log_phi[i]=(Z_l -1)*Bv[i]/Bm - np.log(Z_l - Bm) + (-Am/(Bm*2*s2))*(2*temp[i]/Am - Bv[i]/Bm)*np.log((Z_l + (1+s2)*Bm)/(Z_l + (1-s2)*Bm))\n",
        "    return log_phi\n",
        "    \n",
        "def PR_log_phi_mix_vap(Av,Bv,x):\n",
        "    # to get fugacity of mixture, have the components in vector x\n",
        "    # have the A and B values of each component in vectors Av and Bv\n",
        "    # \n",
        "    C = len(x) # number of components \n",
        "    Am = 0\n",
        "    for i in range(C):\n",
        "        for j in range(C):\n",
        "            Am = Am + x[i]*x[j]*np.sqrt(Av[i]*Av[j])\n",
        "    # now do B\n",
        "    Bm = 0        \n",
        "    for i in range(C):\n",
        "        Bm = Bm + x[i]*Bv[i]\n",
        "    # get liquid root, Z_l\n",
        "    # for liquid we want the lowest positive root\n",
        "    Z = PR_Z(Am,Bm)\n",
        "    if np.isscalar(Z) == False:\n",
        "        Z_l = Z[2]\n",
        "    else:\n",
        "        Z_l = Z\n",
        "    # now do the fugacity calculation\n",
        "    # this is Eq. 9.4-10\n",
        "    s2 = np.sqrt(2)\n",
        "    # initialize temp\n",
        "    temp = np.zeros(len(x))\n",
        "    log_phi = np.zeros(len(x))\n",
        "    for i in range(C):\n",
        "        #\n",
        "        for j in range(C):\n",
        "            temp[i] = temp[i] + x[j]*np.sqrt(Av[i]*Av[j])\n",
        "        log_phi[i]=(Z_l -1)*Bv[i]/Bm - np.log(Z_l - Bm) + (-Am/(Bm*2*s2))*(2*temp[i]/Am - Bv[i]/Bm)*np.log((Z_l + (1+s2)*Bm)/(Z_l + (1-s2)*Bm))\n",
        "    return log_phi\n",
        "    "
      ],
      "execution_count": 675,
      "outputs": []
    },
    {
      "cell_type": "code",
      "metadata": {
        "id": "sM9KMtW4GtUE"
      },
      "source": [
        "df= pd.read_csv(\"https://raw.githubusercontent.com/Jake-Lockwood/Thermodynamics/main/valuestable.csv\", encoding='cp1252')"
      ],
      "execution_count": 676,
      "outputs": []
    },
    {
      "cell_type": "code",
      "metadata": {
        "id": "ZhUF_wzVzVGK",
        "outputId": "b446b235-ff66-443e-e530-a73a91ec21b6",
        "colab": {
          "base_uri": "https://localhost:8080/",
          "height": 194
        }
      },
      "source": [
        "df.head()"
      ],
      "execution_count": 677,
      "outputs": [
        {
          "output_type": "execute_result",
          "data": {
            "text/html": [
              "<div>\n",
              "<style scoped>\n",
              "    .dataframe tbody tr th:only-of-type {\n",
              "        vertical-align: middle;\n",
              "    }\n",
              "\n",
              "    .dataframe tbody tr th {\n",
              "        vertical-align: top;\n",
              "    }\n",
              "\n",
              "    .dataframe thead th {\n",
              "        text-align: right;\n",
              "    }\n",
              "</style>\n",
              "<table border=\"1\" class=\"dataframe\">\n",
              "  <thead>\n",
              "    <tr style=\"text-align: right;\">\n",
              "      <th></th>\n",
              "      <th>Substance</th>\n",
              "      <th>Symbol</th>\n",
              "      <th>MolecularWeight</th>\n",
              "      <th>Tc</th>\n",
              "      <th>Pc</th>\n",
              "      <th>Vc</th>\n",
              "      <th>Zc</th>\n",
              "      <th>Omega</th>\n",
              "      <th>Tboil</th>\n",
              "      <th>a</th>\n",
              "      <th>b</th>\n",
              "      <th>c</th>\n",
              "      <th>d</th>\n",
              "      <th>TemperatureRange</th>\n",
              "    </tr>\n",
              "  </thead>\n",
              "  <tbody>\n",
              "    <tr>\n",
              "      <th>0</th>\n",
              "      <td>Acetylene</td>\n",
              "      <td>C2H2</td>\n",
              "      <td>26.038</td>\n",
              "      <td>308.3</td>\n",
              "      <td>6.140</td>\n",
              "      <td>0.113</td>\n",
              "      <td>0.271</td>\n",
              "      <td>0.184</td>\n",
              "      <td>189.2</td>\n",
              "      <td>21.799</td>\n",
              "      <td>9.208</td>\n",
              "      <td>-6.523</td>\n",
              "      <td>18.197</td>\n",
              "      <td>273â€“1500</td>\n",
              "    </tr>\n",
              "    <tr>\n",
              "      <th>1</th>\n",
              "      <td>Ammonia</td>\n",
              "      <td>NH3</td>\n",
              "      <td>17.031</td>\n",
              "      <td>405.6</td>\n",
              "      <td>11.280</td>\n",
              "      <td>0.072</td>\n",
              "      <td>0.242</td>\n",
              "      <td>0.250</td>\n",
              "      <td>239.7</td>\n",
              "      <td>27.551</td>\n",
              "      <td>2.563</td>\n",
              "      <td>0.990</td>\n",
              "      <td>-6.687</td>\n",
              "      <td>273â€“1500</td>\n",
              "    </tr>\n",
              "    <tr>\n",
              "      <th>2</th>\n",
              "      <td>Benzene</td>\n",
              "      <td>C6H6</td>\n",
              "      <td>78.114</td>\n",
              "      <td>562.1</td>\n",
              "      <td>4.894</td>\n",
              "      <td>0.259</td>\n",
              "      <td>0.271</td>\n",
              "      <td>0.212</td>\n",
              "      <td>353.3</td>\n",
              "      <td>-36.193</td>\n",
              "      <td>48.444</td>\n",
              "      <td>-31.548</td>\n",
              "      <td>77.573</td>\n",
              "      <td>273â€“1500</td>\n",
              "    </tr>\n",
              "    <tr>\n",
              "      <th>3</th>\n",
              "      <td>1-Butene</td>\n",
              "      <td>C4H8</td>\n",
              "      <td>56.108</td>\n",
              "      <td>419.6</td>\n",
              "      <td>4.023</td>\n",
              "      <td>0.240</td>\n",
              "      <td>0.277</td>\n",
              "      <td>0.187</td>\n",
              "      <td>266.9</td>\n",
              "      <td>-1.004</td>\n",
              "      <td>36.193</td>\n",
              "      <td>-21.381</td>\n",
              "      <td>50.502</td>\n",
              "      <td>273â€“1500</td>\n",
              "    </tr>\n",
              "    <tr>\n",
              "      <th>4</th>\n",
              "      <td>n-butane</td>\n",
              "      <td>C4H10</td>\n",
              "      <td>58.124</td>\n",
              "      <td>425.2</td>\n",
              "      <td>3.800</td>\n",
              "      <td>0.255</td>\n",
              "      <td>0.274</td>\n",
              "      <td>0.193</td>\n",
              "      <td>272.7</td>\n",
              "      <td>3.954</td>\n",
              "      <td>37.126</td>\n",
              "      <td>-18.326</td>\n",
              "      <td>34.979</td>\n",
              "      <td>273â€“1500</td>\n",
              "    </tr>\n",
              "  </tbody>\n",
              "</table>\n",
              "</div>"
            ],
            "text/plain": [
              "   Substance Symbol  MolecularWeight  ...       c       d  TemperatureRange\n",
              "0  Acetylene   C2H2           26.038  ...  -6.523  18.197        273â€“1500\n",
              "1    Ammonia    NH3           17.031  ...   0.990  -6.687        273â€“1500\n",
              "2    Benzene   C6H6           78.114  ... -31.548  77.573        273â€“1500\n",
              "3   1-Butene   C4H8           56.108  ... -21.381  50.502        273â€“1500\n",
              "4   n-butane  C4H10           58.124  ... -18.326  34.979        273â€“1500\n",
              "\n",
              "[5 rows x 14 columns]"
            ]
          },
          "metadata": {
            "tags": []
          },
          "execution_count": 677
        }
      ]
    },
    {
      "cell_type": "code",
      "metadata": {
        "id": "RgeoRTd8PIOu"
      },
      "source": [
        "homework9 = (np.array([300, 320, 340, 360, 380, 400]), np.array([0.26110125, 0.46105421, 0.75924786, 1.18210221, 1.75860968,\n",
        "        2.52056083]))"
      ],
      "execution_count": 678,
      "outputs": []
    },
    {
      "cell_type": "code",
      "metadata": {
        "id": "3g63MYsh0u-U"
      },
      "source": [
        "class thermodynamics:\n",
        "  def __init__(self, substance, T, P):\n",
        "    self.name = substance\n",
        "    self.df_sub = df.loc[df['Substance'] == substance]\n",
        "\n",
        "    self.T = T\n",
        "    self.P = P\n",
        "\n",
        "    self.Tc = self.df_sub.iloc[[0], [3]].values[0].item()\n",
        "    self.Pc = self.df_sub.iloc[[0], [4]].values[0].item()\n",
        "    self.omega = self.df_sub.iloc[[0], [7]].values[0].item()\n",
        "    self.a = self.df_sub.iloc[[0], [9]].values[0].item()\n",
        "    self.b = self.df_sub.iloc[[0], [10]].values[0].item()\n",
        "    self.c = self.df_sub.iloc[[0], [11]].values[0].item()\n",
        "    self.d = self.df_sub.iloc[[0], [12]].values[0].item()\n",
        "\n",
        "    self.R = 8.314\n",
        "\n",
        "    self.substance_props = np.array([self.Tc, self.Pc, self.omega])\n",
        "\n",
        "    self.Cp_param = np.array([self.a, self.b, self.c, self.d])\n",
        "\n",
        "    self.param = PR_param(self.P,self.T,self.substance_props)\n",
        "\n",
        "    self.A = self.param[3]\n",
        "    self.B = self.param[4]\n",
        "\n",
        "    self.Z = PR_Z(self.A,self.B)\n",
        "\n",
        "  def properties(self):\n",
        "    r = self.df_sub\n",
        "    return r\n",
        "\n",
        "  def enthalpy(self):\n",
        "\n",
        "    HDEP = PR_H(self.P,self.T,self.param,self.Z)\n",
        "    H__IG = H_IG(self.Cp_param, self.T)\n",
        "\n",
        "    H_total = H__IG + HDEP\n",
        "\n",
        "    return H_total\n",
        "\n",
        "  def enthalpy_dep(self):\n",
        "    HDEP = PR_H(self.P,self.T,self.param,self.Z)\n",
        "    return HDEP\n",
        "\n",
        "  def enthalpy_dep_z(self, z):\n",
        "    HDEP = PR_H(self.P,self.T,self.param,z)\n",
        "    return HDEP\n",
        "\n",
        "  def enthalpy_CpConst():\n",
        "    #DOES NOT WORK YET\n",
        "    HDEP = PR_H(self.P,self.T,self.param,self.Z)\n",
        "    return\n",
        "\n",
        "  def entropy(self):\n",
        "    self.SDEP = PR_S(self.P,self.T,self.param,self.Z) # this is the S departure function\n",
        "    self.S_IG_TP = S_IG_TP(self.Cp_param, self.T, self.P*1e6)\n",
        "\n",
        "    self.S_total = self.S_IG_TP + self.SDEP\n",
        "\n",
        "    return self.S_total\n",
        "\n",
        "  def entropy_dep_z(self, z):\n",
        "    SDEP = PR_S(self.P,self.T,self.param,z)\n",
        "    return SDEP\n",
        "\n",
        "\n",
        "  def molar_volume(self):\n",
        "    self.V = self.R*self.T*self.Z/(self.P*1e6) # note this is a molar volume\n",
        "\n",
        "    return self.V\n",
        "\n",
        "  def molar_volume_z(self, z):\n",
        "    V = self.R*self.T*z/(self.P*1e6)\n",
        "    return V\n",
        "\n",
        "  def Z_val(self):\n",
        "    z = PR_Z(self.A, self.B)\n",
        "    return z\n",
        "\n",
        "  def PR_phi(self, z):\n",
        "    if type(z) == int:\n",
        "      phi = PR_log_phi(self.A, self.B, z)\n",
        "      return phi\n",
        "    elif str(type(z)) == \"<class 'numpy.ndarray'>\":\n",
        "      phi1 = np.exp(PR_log_phi(self.A, self.B, z[0]))\n",
        "      phi2 = np.exp(PR_log_phi(self.A, self.B, z[1]))\n",
        "      phi3 = np.exp(PR_log_phi(self.A, self.B, z[2]))\n",
        "      return np.array([phi1, phi2, phi3])\n",
        "    else:\n",
        "      return \"WARNING: Invalid Z-input\"\n",
        "\n",
        "\n",
        "  def sub_state(self):\n",
        "\n",
        "    return\n",
        "\n",
        "  def H_constant_P(self, P2, diff):\n",
        "\n",
        "    H1 = self.enthalpy()\n",
        "    print(\"Initial H: \" + str(H1))\n",
        "    for i in range(10000):\n",
        "      \n",
        "      param = PR_param(P2,i,self.substance_props)\n",
        "      A = self.param[3]\n",
        "      B = self.param[4]\n",
        "\n",
        "      Z = PR_Z(A,B)\n",
        "\n",
        "      H_IG_1 = H_IG(self.Cp_param, i)\n",
        "      H_DEP = PR_H(P2, i, param, Z)\n",
        "      H2 = H_IG_1 + H_DEP\n",
        "      \n",
        "      if H1-diff <= H2 <= H1+diff:\n",
        "        r = \"T: \"+str(i)+\"  |  Final H: \"+str(H2)\n",
        "        return r\n",
        "\n",
        "  def H_constant_T(self, T2, diff):\n",
        "    print(\"WARNING, THIS FUNCTION HAS NOT BEEN TESTED\")\n",
        "    H1 = self.enthalpy()\n",
        "    print(\"Initial H: \" + str(H1))\n",
        "    for i in range(10000):\n",
        "      \n",
        "      k=i/100 #shrink iteration\n",
        "\n",
        "      param = PR_param(k,T2,self.substance_props)\n",
        "      A = self.param[3]\n",
        "      B = self.param[4]\n",
        "\n",
        "      Z = PR_Z(A,B)\n",
        "\n",
        "      H_IG_1 = H_IG(self.Cp_param, T2)\n",
        "      H_DEP = PR_H(k, T2, param, Z)\n",
        "      H2 = H_IG_1 + H_DEP\n",
        "      if H1-diff <= H2 <= H1+diff:\n",
        "        r = \"P: \"+str(k)+\"  |  Final H: \"+str(H2)\n",
        "        return r\n",
        "\n",
        "\n",
        "  def S_constant_P(self, P2, diff):\n",
        "\n",
        "    S1 = self.entropy()\n",
        "    print(\"Initial S: \" + str(S1))\n",
        "    for i in range(10000):\n",
        "      param = PR_param(P2,i,self.substance_props)\n",
        "      A = self.param[3]\n",
        "      B = self.param[4]\n",
        "\n",
        "      Z = PR_Z(A,B)\n",
        "\n",
        "      SDEP = PR_S(P2,i,param,Z) # this is the S departure function\n",
        "      S_IG_TP_F = S_IG_TP(self.Cp_param, i, P2*1e6)\n",
        "      S2 = SDEP + S_IG_TP_F\n",
        "      if S1-diff <= S2 <= S1+diff:\n",
        "        r = \"T: \"+str(i)+\"  |  Final S: \"+str(S2)\n",
        "        return r\n",
        "\n",
        "  def S_constant_T(self, T2, diff):\n",
        "\n",
        "    S1 = self.entropy()\n",
        "    print(\"Initial S: \" + str(S1))\n",
        "    for i in range(10000):\n",
        "\n",
        "      k=i/100\n",
        "      param = PR_param(k,T2,self.substance_props)\n",
        "      A = self.param[3]\n",
        "      B = self.param[4]\n",
        "\n",
        "      Z = PR_Z(A,B)\n",
        "\n",
        "      SDEP = PR_S(k,T2,param,Z) # this is the S departure function\n",
        "      S_IG_TP_F = S_IG_TP(self.Cp_param, T2, k*1e6)\n",
        "      S2 = SDEP + S_IG_TP_F\n",
        "      if S1-diff <= S2 <= S1+diff:\n",
        "        r = \"P: \"+str(k)+\"  |  Final S: \"+str(S2)\n",
        "        return r\n",
        "\n",
        "\n",
        "  def PR_Vapor(self, T, P_vap_guess): #Tc, Pc, and omega come from class instantiation\n",
        "    P = P_vap_guess\n",
        "    param = PR_param(P,T,self.substance_props) #initalize all parameters\n",
        "    A = param[3]\n",
        "    B = param[4]\n",
        "    Zs = PR_Z(A, B)\n",
        "    if str(type(Zs)) == \"<class 'numpy.float64'>\": #make sure Z has 3 roots\n",
        "      return \"SINGLE Z ROOT\"\n",
        "    else:\n",
        "      Z_low = Zs[0]\n",
        "      Z_high = Zs[2]\n",
        "      fl = np.exp(PR_log_phi(A, B, Z_low))\n",
        "      fv = np.exp(PR_log_phi(A, B, Z_high))\n",
        "\n",
        "      while (abs(fl/fv-1)) > 0.0001: #loop over P-guess until condition met\n",
        "        A = param[3]\n",
        "        B = param[4]\n",
        "        Zs = PR_Z(A, B)\n",
        "        if str(type(Zs)) == \"<class 'numpy.float64'>\":  #make sure Z has 3 roots\n",
        "          return \"SINGLE Z ROOT\"\n",
        "        else:\n",
        "          Z_low = Zs[0]\n",
        "          Z_high = Zs[2]\n",
        "          fl = np.exp(PR_log_phi(A, B, Z_low))\n",
        "          fv = np.exp(PR_log_phi(A, B, Z_high))\n",
        "          P = P*fl/fv         #new P vapor guess\n",
        "          param = PR_param(P, T, self.substance_props)\n",
        "\n",
        "    return P #return vapor pressure\n",
        "\n",
        "  def vapor_data_collection(self):\n",
        "    n = int(input(\"number of tempature entries \"))\n",
        "    temps = np.array([])\n",
        "    for i in range(n):\n",
        "      #temps.append(input(T+str(i+1)))\n",
        "      temps = np.append(temps, int(input(\"T\"+str(i+1)+\" \")))\n",
        "\n",
        "    vapor_pressures = np.array([])\n",
        "    for i in range(n):\n",
        "      vap = self.PR_Vapor(temps[i], float(input(\"P vap guess \")))\n",
        "      if vap == \"SINGLE Z ROOT\":\n",
        "        for j in range(100):\n",
        "          vap = self.PR_Vapor(temps[i], float(input(\"Bad guess, enter new P vap guess \")))\n",
        "          if vap != \"SINGLE Z ROOT\":\n",
        "            break\n",
        "        vapor_pressures = np.append(vapor_pressures, vap)\n",
        "      else:\n",
        "        vapor_pressures = np.append(vapor_pressures, vap)\n",
        "\n",
        "    return temps, vapor_pressures\n",
        "\n",
        "  def vapor_plot(self):\n",
        "    if input(\"Use HW numbers, yes or no \") == \"yes\":\n",
        "      data = homework9\n",
        "      temps = data[0]\n",
        "      vapor_pressures = data[1]\n",
        "      x = temps\n",
        "      x_1 = 1000/x\n",
        "      y = vapor_pressures\n",
        "      y_1 = np.log(vapor_pressures)\n",
        "      plt.scatter(x, y)\n",
        "      z = np.polyfit(x, y, 4)\n",
        "      p = np.poly1d(z)\n",
        "      plb.plot(x, p(x), 'm-')\n",
        "      plt.title(\"Vapor Pressure for \"+self.name)\n",
        "      plt.xlabel(\"Tempature (K)\")\n",
        "      plt.ylabel(\"Pressure (MPa)\")\n",
        "      plt.grid()\n",
        "\n",
        "      plt.show()\n",
        "    else:\n",
        "      data = self.vapor_data_collection()\n",
        "      temps = data[0]\n",
        "      vapor_pressures = data[1]\n",
        "      x = temps\n",
        "      x_1 = 1000/x\n",
        "      y = vapor_pressures\n",
        "      y_1 = np.log(vapor_pressures)\n",
        "      plt.scatter(x, y)\n",
        "      z = np.polyfit(x, y, 4)\n",
        "      p = np.poly1d(z)\n",
        "      plb.plot(x, p(x), 'm-')\n",
        "      plt.title(\"Vapor Pressure for \"+self.name)\n",
        "      plt.xlabel(\"Tempature (K)\")\n",
        "      plt.ylabel(\"Pressure (MPa)\")\n",
        "      plt.grid()\n",
        "\n",
        "      plt.show()\n",
        "\n",
        "  def vapor_plot_semilog(self):\n",
        "    if input(\"Use HW numbers, yes or no \") == \"yes\":\n",
        "      data = homework9\n",
        "      temps = data[0]\n",
        "      vapor_pressures = data[1]\n",
        "      x = temps\n",
        "      x_1 = 1000/x\n",
        "      y = vapor_pressures\n",
        "      y_1 = np.log(vapor_pressures)\n",
        "      plt.scatter(x, y_1)\n",
        "      z = np.polyfit(x, y_1, 4)\n",
        "      p = np.poly1d(z)\n",
        "      plb.plot(x, p(x), 'm-')\n",
        "      plt.title(\"Vapor Pressure for \"+self.name)\n",
        "      plt.xlabel(\"Tempature (K)\")\n",
        "      plt.ylabel(\"Natural log of Pressure (MPa)\")\n",
        "      plt.grid()\n",
        "\n",
        "      plt.show()\n",
        "    else: \n",
        "      data = self.vapor_data_collection()\n",
        "      temps = data[0]\n",
        "      vapor_pressures = data[1]\n",
        "      x = temps\n",
        "      x_1 = 1000/x\n",
        "      y = vapor_pressures\n",
        "      y_1 = np.log(vapor_pressures)\n",
        "      plt.scatter(x, y_1)\n",
        "      z = np.polyfit(x, y_1, 4)\n",
        "      p = np.poly1d(z)\n",
        "      plb.plot(x, p(x), 'm-')\n",
        "      plt.title(\"Vapor Pressure for \"+self.name)\n",
        "      plt.xlabel(\"Tempature (K)\")\n",
        "      plt.ylabel(\"Natural log of Pressure (MPa)\")\n",
        "      plt.grid()\n",
        "\n",
        "      plt.show()\n",
        "\n",
        "  def vapor_plot_semilog_1000(self):\n",
        "    if input(\"Use HW numbers, yes or no \") == \"yes\":\n",
        "      data = homework9\n",
        "      temps = data[0]\n",
        "      vapor_pressures = data[1]\n",
        "      x = temps\n",
        "      x_1 = 1000/x\n",
        "      y = vapor_pressures\n",
        "      y_1 = np.log(vapor_pressures)\n",
        "      plt.scatter(x_1, y_1)\n",
        "      z = np.polyfit(x_1, y_1, 4)\n",
        "      p = np.poly1d(z)\n",
        "      plb.plot(x_1, p(x_1), 'm-')\n",
        "      plt.title(\"Vapor Pressure for \"+self.name)\n",
        "      plt.xlabel(\"1000/Tempature (K)\")\n",
        "      plt.ylabel(\"Natural log of Pressure (MPa)\")\n",
        "      plt.grid()\n",
        "\n",
        "      plt.show() \n",
        "\n",
        "    else:\n",
        "      data = self.vapor_data_collection()\n",
        "      temps = data[0]\n",
        "      vapor_pressures = data[1]\n",
        "      x = temps\n",
        "      x_1 = 1000/x\n",
        "      y = vapor_pressures\n",
        "      y_1 = np.log(vapor_pressures)\n",
        "      plt.scatter(x_1, y_1)\n",
        "      z = np.polyfit(x_1, y_1, 4)\n",
        "      p = np.poly1d(z)\n",
        "      plb.plot(x_1, p(x_1), 'm-')\n",
        "      plt.title(\"Vapor Pressure for \"+self.name)\n",
        "      plt.xlabel(\"1000/Tempature (K)\")\n",
        "      plt.ylabel(\"Natural log of Pressure (MPa)\")\n",
        "      plt.grid()\n",
        "\n",
        "      plt.show() \n",
        "      \n",
        "\n",
        "\n"
      ],
      "execution_count": 679,
      "outputs": []
    },
    {
      "cell_type": "code",
      "metadata": {
        "id": "XrUgx-lyKFj6"
      },
      "source": [
        "a = thermodynamics(\"n-butane\", 220, 0.3)"
      ],
      "execution_count": 680,
      "outputs": []
    },
    {
      "cell_type": "code",
      "metadata": {
        "id": "ZUmtnQ2VT69p",
        "outputId": "ba3ba56e-2e16-470d-a0fa-939f308bfbd6",
        "colab": {
          "base_uri": "https://localhost:8080/"
        }
      },
      "source": [
        "a.PR_phi(a.Z_val())"
      ],
      "execution_count": 690,
      "outputs": [
        {
          "output_type": "execute_result",
          "data": {
            "text/plain": [
              "array([0.02811502, 0.97421997, 0.82225028])"
            ]
          },
          "metadata": {
            "tags": []
          },
          "execution_count": 690
        }
      ]
    },
    {
      "cell_type": "code",
      "metadata": {
        "id": "WoBp-r5cPZQO",
        "outputId": "dc2cf6ef-7e1d-4bd1-be02-64f8fb7e05f4",
        "colab": {
          "base_uri": "https://localhost:8080/",
          "height": 313
        }
      },
      "source": [
        "a.vapor_plot()"
      ],
      "execution_count": 685,
      "outputs": [
        {
          "output_type": "stream",
          "text": [
            "Use HW numbers, yes or no yes\n"
          ],
          "name": "stdout"
        },
        {
          "output_type": "display_data",
          "data": {
            "image/png": "[encoded data removed]",
            "text/plain": [
              "<Figure size 432x288 with 1 Axes>"
            ]
          },
          "metadata": {
            "tags": [],
            "needs_background": "light"
          }
        }
      ]
    },
    {
      "cell_type": "code",
      "metadata": {
        "id": "IyW2T1-aC1cm",
        "outputId": "76791de4-491a-433d-937a-9b68eec26ff9",
        "colab": {
          "base_uri": "https://localhost:8080/",
          "height": 313
        }
      },
      "source": [
        "a.vapor_plot_semilog()"
      ],
      "execution_count": 692,
      "outputs": [
        {
          "output_type": "stream",
          "text": [
            "Use HW numbers, yes or no yes\n"
          ],
          "name": "stdout"
        },
        {
          "output_type": "display_data",
          "data": {
            "image/png": "[encoded data removed]",
            "text/plain": [
              "<Figure size 432x288 with 1 Axes>"
            ]
          },
          "metadata": {
            "tags": [],
            "needs_background": "light"
          }
        }
      ]
    },
    {
      "cell_type": "code",
      "metadata": {
        "id": "rlqQ-VtcLDGT",
        "outputId": "0d97928f-ef14-4b8d-95cf-f62e2e3c66f6",
        "colab": {
          "base_uri": "https://localhost:8080/",
          "height": 313
        }
      },
      "source": [
        "a.vapor_plot_semilog_1000()"
      ],
      "execution_count": 686,
      "outputs": [
        {
          "output_type": "stream",
          "text": [
            "Use HW numbers, yes or no yes\n"
          ],
          "name": "stdout"
        },
        {
          "output_type": "display_data",
          "data": {
            "image/png": "[encoded data removed]",
            "text/plain": [
              "<Figure size 432x288 with 1 Axes>"
            ]
          },
          "metadata": {
            "tags": [],
            "needs_background": "light"
          }
        }
      ]
    },
    {
      "cell_type": "code",
      "metadata": {
        "id": "ukwrdDtrLCeT"
      },
      "source": [
        "03\\3"
      ],
      "execution_count": null,
      "outputs": []
    },
    {
      "cell_type": "code",
      "metadata": {
        "id": "4Ix05yTjFKD1"
      },
      "source": [
        "a.vapor_plot()"
      ],
      "execution_count": null,
      "outputs": []
    },
    {
      "cell_type": "code",
      "metadata": {
        "id": "uc7WDEsN8Fv-"
      },
      "source": [
        "a.vapor_data_collection()"
      ],
      "execution_count": null,
      "outputs": []
    },
    {
      "cell_type": "code",
      "metadata": {
        "id": "aAq-HKql_qub"
      },
      "source": [
        "0g"
      ],
      "execution_count": null,
      "outputs": []
    },
    {
      "cell_type": "code",
      "metadata": {
        "id": "4-PyuD232Uuv"
      },
      "source": [
        "b = thermodynamics(\"n-butane\", 400, 0.3)"
      ],
      "execution_count": null,
      "outputs": []
    },
    {
      "cell_type": "code",
      "metadata": {
        "id": "esyn_guJ2Zkh"
      },
      "source": [
        "23555\n",
        "5str(type(b.Z_val()))"
      ],
      "execution_count": null,
      "outputs": []
    },
    {
      "cell_type": "code",
      "metadata": {
        "id": "rZhiK4Y8YXpt"
      },
      "source": [
        "a.PR_Vapor(400, 1.8)"
      ],
      "execution_count": null,
      "outputs": []
    },
    {
      "cell_type": "code",
      "metadata": {
        "id": "Ydy6LjdAKFn6"
      },
      "source": [
        "vvv = a.Z_val()"
      ],
      "execution_count": null,
      "outputs": []
    },
    {
      "cell_type": "code",
      "metadata": {
        "id": "KnLushdIMcs6"
      },
      "source": [
        ""
      ],
      "execution_count": null,
      "outputs": []
    },
    {
      "cell_type": "code",
      "metadata": {
        "id": "B0Wjng0tNUs9"
      },
      "source": [
        "print(a.molar_volume_z(0.01387669))\n",
        "print(a.enthalpy_dep_z(0.01387669))\n",
        "print(a.entropy_dep_z(0.01387669))"
      ],
      "execution_count": null,
      "outputs": []
    },
    {
      "cell_type": "code",
      "metadata": {
        "id": "YvVfKTNFE8kY"
      },
      "source": [
        "str(type(vvv))"
      ],
      "execution_count": null,
      "outputs": []
    },
    {
      "cell_type": "code",
      "metadata": {
        "id": "Tx3IIq_LDimK"
      },
      "source": [
        "a.PR_phi(vvv)"
      ],
      "execution_count": null,
      "outputs": []
    },
    {
      "cell_type": "code",
      "metadata": {
        "id": "lWCwmAO6KFs4"
      },
      "source": [
        "b = thermodynamics(\"Oxygen\", 137, 1)"
      ],
      "execution_count": null,
      "outputs": []
    },
    {
      "cell_type": "code",
      "metadata": {
        "id": "mkpmQ9zZKF2P"
      },
      "source": [
        "b.enthalpy()"
      ],
      "execution_count": null,
      "outputs": []
    },
    {
      "cell_type": "code",
      "metadata": {
        "id": "d9w_38AXtVTe"
      },
      "source": [
        "test = thermodynamics(\"Carbon dioxide\", 313, 20)"
      ],
      "execution_count": null,
      "outputs": []
    },
    {
      "cell_type": "code",
      "metadata": {
        "id": "kbt6sOlRJAOu"
      },
      "source": [
        "test.enthalpy()"
      ],
      "execution_count": null,
      "outputs": []
    },
    {
      "cell_type": "code",
      "metadata": {
        "id": "ffnwrNiotVbv"
      },
      "source": [
        "test2 = thermodynamics(\"Carbon dioxide\", 307.575, 14)"
      ],
      "execution_count": null,
      "outputs": []
    },
    {
      "cell_type": "code",
      "metadata": {
        "id": "HOPwJVDUtVea"
      },
      "source": [
        "test2.enthalpy()"
      ],
      "execution_count": null,
      "outputs": []
    },
    {
      "cell_type": "code",
      "metadata": {
        "id": "k0fopIjY-nLC"
      },
      "source": [
        "test.H_constant_P(14, 14)"
      ],
      "execution_count": null,
      "outputs": []
    },
    {
      "cell_type": "code",
      "metadata": {
        "id": "aCaVsknxtVZZ"
      },
      "source": [
        ""
      ],
      "execution_count": null,
      "outputs": []
    },
    {
      "cell_type": "code",
      "metadata": {
        "id": "khNeQlQXtVRR"
      },
      "source": [
        ""
      ],
      "execution_count": null,
      "outputs": []
    },
    {
      "cell_type": "code",
      "metadata": {
        "id": "akjLyPkZEtn1"
      },
      "source": [
        "#test = thermodynamics(\"Carbon dioxide\", 300, 3)"
      ],
      "execution_count": null,
      "outputs": []
    },
    {
      "cell_type": "code",
      "metadata": {
        "id": "kjf8c_vS-Wpd"
      },
      "source": [
        "#test2 = thermodynamics(\"Carbon dioxide\", 403, 10)"
      ],
      "execution_count": null,
      "outputs": []
    },
    {
      "cell_type": "code",
      "metadata": {
        "id": "x3_e6NKl6wKH"
      },
      "source": [
        "#test.entropy()"
      ],
      "execution_count": null,
      "outputs": []
    },
    {
      "cell_type": "code",
      "metadata": {
        "id": "dbP9N-2i-dIX"
      },
      "source": [
        "#test2.entropy()"
      ],
      "execution_count": null,
      "outputs": []
    },
    {
      "cell_type": "code",
      "metadata": {
        "id": "4dRDSK5Y7L5v"
      },
      "source": [
        "#test.S_constant_P(10, 0.05)"
      ],
      "execution_count": null,
      "outputs": []
    },
    {
      "cell_type": "code",
      "metadata": {
        "id": "yAFN6iH-_Z7x"
      },
      "source": [
        ""
      ],
      "execution_count": null,
      "outputs": []
    },
    {
      "cell_type": "code",
      "metadata": {
        "id": "4Rs_z6Gl5GAO"
      },
      "source": [
        "#p = thermodynamics(\"Oxygen\", 300, 8)"
      ],
      "execution_count": null,
      "outputs": []
    },
    {
      "cell_type": "code",
      "metadata": {
        "id": "THdP5KOY5NQX"
      },
      "source": [
        "#p.entropy()"
      ],
      "execution_count": null,
      "outputs": []
    },
    {
      "cell_type": "code",
      "metadata": {
        "id": "h6StYLzhd3zT"
      },
      "source": [
        "#bb = thermodynamics(\"Propane\", 480, 12.75)"
      ],
      "execution_count": null,
      "outputs": []
    },
    {
      "cell_type": "code",
      "metadata": {
        "id": "45zNR7Tjd9wV"
      },
      "source": [
        "#bb.molar_volume()"
      ],
      "execution_count": null,
      "outputs": []
    },
    {
      "cell_type": "code",
      "metadata": {
        "id": "42ivBLL7arQJ"
      },
      "source": [
        "#test.properties()"
      ],
      "execution_count": null,
      "outputs": []
    },
    {
      "cell_type": "code",
      "metadata": {
        "id": "hrAp40aBKO32"
      },
      "source": [
        "#test.enthalpy()"
      ],
      "execution_count": null,
      "outputs": []
    },
    {
      "cell_type": "code",
      "metadata": {
        "id": "o_SHeBhvZCNt"
      },
      "source": [
        "#test.entropy()"
      ],
      "execution_count": null,
      "outputs": []
    },
    {
      "cell_type": "code",
      "metadata": {
        "id": "9TTdyPDDg39y"
      },
      "source": [
        "\n",
        "#test.molar_volume()"
      ],
      "execution_count": null,
      "outputs": []
    },
    {
      "cell_type": "code",
      "metadata": {
        "id": "6Fxsb5UY3MMb"
      },
      "source": [
        "#test.enthalpy_dep()"
      ],
      "execution_count": null,
      "outputs": []
    },
    {
      "cell_type": "code",
      "metadata": {
        "id": "O69bSECIpSfh"
      },
      "source": [
        "#test.S_constant_P(10, 0.1)"
      ],
      "execution_count": null,
      "outputs": []
    },
    {
      "cell_type": "code",
      "metadata": {
        "id": "QfU2UKRD0JCT"
      },
      "source": [
        "#test.H_constant_T(403, 10)"
      ],
      "execution_count": null,
      "outputs": []
    },
    {
      "cell_type": "code",
      "metadata": {
        "id": "j3XcOb492rvL"
      },
      "source": [
        "#a = thermodynamics(\"Carbon dioxide\", 403, 10)"
      ],
      "execution_count": null,
      "outputs": []
    },
    {
      "cell_type": "code",
      "metadata": {
        "id": "iQZc5hsv5nw9"
      },
      "source": [
        "#a.enthalpy()"
      ],
      "execution_count": null,
      "outputs": []
    },
    {
      "cell_type": "code",
      "metadata": {
        "id": "DcrUEjN-5piM"
      },
      "source": [
        "#test.enthalpy()"
      ],
      "execution_count": null,
      "outputs": []
    },
    {
      "cell_type": "code",
      "metadata": {
        "id": "a4fW-YBV5vd3"
      },
      "source": [
        "#test.entropy()"
      ],
      "execution_count": null,
      "outputs": []
    },
    {
      "cell_type": "code",
      "metadata": {
        "id": "d4JzqTYJ6cXM"
      },
      "source": [
        "#a.entropy()"
      ],
      "execution_count": null,
      "outputs": []
    },
    {
      "cell_type": "code",
      "metadata": {
        "id": "KXdcbqwP6dyY"
      },
      "source": [
        "#test.S_constant_T(403, 0.005)"
      ],
      "execution_count": null,
      "outputs": []
    },
    {
      "cell_type": "code",
      "metadata": {
        "id": "RKmtx7yP6jlh"
      },
      "source": [
        "#b = thermodynamics(\"Carbon dioxide\", 333, 10)"
      ],
      "execution_count": null,
      "outputs": []
    },
    {
      "cell_type": "code",
      "metadata": {
        "id": "Er_CuWMrXztg"
      },
      "source": [
        "#b.H_constant_P(9, 5)"
      ],
      "execution_count": null,
      "outputs": []
    },
    {
      "cell_type": "code",
      "metadata": {
        "id": "nwzJ3P5mX6MW"
      },
      "source": [
        "a = np.array([1, 2, 3])"
      ],
      "execution_count": null,
      "outputs": []
    },
    {
      "cell_type": "code",
      "metadata": {
        "id": "L1dGH_cD2B-F"
      },
      "source": [
        "np.shape(a)"
      ],
      "execution_count": null,
      "outputs": []
    },
    {
      "cell_type": "code",
      "metadata": {
        "id": "7CA2hdzI2Cwb"
      },
      "source": [
        ""
      ],
      "execution_count": null,
      "outputs": []
    }
  ]
}